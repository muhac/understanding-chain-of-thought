{
 "cells": [
  {
   "cell_type": "code",
   "execution_count": 1,
   "id": "bb901aa5",
   "metadata": {
    "execution": {
     "iopub.execute_input": "2024-12-04T21:43:34.636303Z",
     "iopub.status.busy": "2024-12-04T21:43:34.636170Z",
     "iopub.status.idle": "2024-12-04T21:43:36.064910Z",
     "shell.execute_reply": "2024-12-04T21:43:36.064410Z",
     "shell.execute_reply.started": "2024-12-04T21:43:34.636289Z"
    }
   },
   "outputs": [],
   "source": [
    "from utils import read_jsonl, extract_nums, find_formula, extract_answer\n",
    "import re\n",
    "import numpy as np\n",
    "import builtins\n",
    "import matplotlib.pyplot as plt\n",
    "import jsonlines\n",
    "import json\n",
    "import torch\n",
    "from copy import deepcopy\n",
    "\n",
    "def approx_eq(a, b):\n",
    "    return abs(a - b) < 0.01\n",
    "\n",
    "def approx_in(b, array):\n",
    "    for a in array:\n",
    "        if approx_eq(a, b):\n",
    "            return True\n",
    "    return False\n",
    "\n",
    "def approx_overlap(a, b):\n",
    "    count = 0\n",
    "    a = {eval(var) for var in a}\n",
    "    b = {eval(var) for var in b}\n",
    "    for item in a:\n",
    "        if approx_in(item, b):\n",
    "            count += 1\n",
    "    return count\n",
    "    \n",
    "def find_nums(string):\n",
    "    return re.findall(r\"\\d*\\.?\\d+(?:/\\d*\\.?\\d+)?\", string)"
   ]
  },
  {
   "cell_type": "code",
   "execution_count": 2,
   "id": "9d0730cd",
   "metadata": {
    "execution": {
     "iopub.execute_input": "2024-12-04T21:43:36.065701Z",
     "iopub.status.busy": "2024-12-04T21:43:36.065497Z",
     "iopub.status.idle": "2024-12-04T21:43:36.102494Z",
     "shell.execute_reply": "2024-12-04T21:43:36.102058Z",
     "shell.execute_reply.started": "2024-12-04T21:43:36.065687Z"
    }
   },
   "outputs": [],
   "source": [
    "# preprocess raw data\n",
    "data = read_jsonl(\"grade-school-math/grade_school_math/data/test.jsonl\")\n",
    "for i in range(len(data)):\n",
    "    item = data[i]\n",
    "    ans = extract_answer(item['answer'])\n",
    "    rationale, _ = item['answer'].split('####')\n",
    "    rationale = rationale.strip().split(\"\\n\")    \n",
    "    rationale = [var.strip() for var in rationale]\n",
    "    item['rationale'] = rationale\n",
    "    item['answer'] = ans\n",
    "    \n",
    "    ## --------------processing the formula to get leaf nums and non_leaf_nums -------------------\n",
    "    leaf_nums = []\n",
    "    non_leaf_nums = []\n",
    "    \n",
    "    for step in rationale:\n",
    "        if step.count(\"<<\") == 0:\n",
    "            # no formula in this step - treat the last num as non_leaf_num\n",
    "            nums = find_nums(step)\n",
    "            if not nums:\n",
    "                continue\n",
    "            for num in nums[:-1]:\n",
    "                if num in leaf_nums or num in non_leaf_nums:\n",
    "                    continue\n",
    "                # this num is a new leaf num\n",
    "                leaf_nums.append(num)\n",
    "            non_leaf_nums.append(nums[-1])\n",
    "        elif step.count(\"<<\") == 1:\n",
    "            formula = find_formula(step)\n",
    "            left, right = formula.split(\"=\")\n",
    "            left_nums = find_nums(left)\n",
    "            \n",
    "            # when \"X/Y\" is only num on the left, split them\n",
    "            if len(left_nums) == 1 and \"/\" in left_nums[0]:\n",
    "                left_nums = left_nums[0].split(\"/\")\n",
    "            \n",
    "            for num in left_nums:\n",
    "                if num in leaf_nums or num in non_leaf_nums:\n",
    "                    continue\n",
    "                # this num is a new leaf num\n",
    "                leaf_nums.append(num)\n",
    "            non_leaf_nums.append(right)\n",
    "        else:\n",
    "            # assert no step with >1 formulas\n",
    "            assert False\n",
    "\n",
    "    ## ------\n",
    "    item['leaf_nums'] = leaf_nums\n",
    "    item['non_leaf_nums'] = non_leaf_nums\n",
    "    data[i] = item\n",
    "    \n",
    "# dictionary maps question to id\n",
    "question2id = dict()\n",
    "for i in range(len(data)):\n",
    "    item = data[i]\n",
    "    question2id[item['question']] = i"
   ]
  },
  {
   "cell_type": "code",
   "execution_count": 3,
   "id": "03044382",
   "metadata": {
    "execution": {
     "iopub.execute_input": "2024-12-04T21:43:36.103162Z",
     "iopub.status.busy": "2024-12-04T21:43:36.103019Z",
     "iopub.status.idle": "2024-12-04T21:43:36.174241Z",
     "shell.execute_reply": "2024-12-04T21:43:36.173728Z",
     "shell.execute_reply.started": "2024-12-04T21:43:36.103150Z"
    }
   },
   "outputs": [],
   "source": [
    "def main(file_path, return_depth=False):\n",
    "    \n",
    "    if file_path.endswith(\".jsonl\"):\n",
    "        temp = read_jsonl(file_path)\n",
    "        # last element is the prompt\n",
    "        result, prompt = temp[:-1], temp[-1]\n",
    "    else:\n",
    "        with open(file_path, \"r\") as f:\n",
    "            temp = json.load(f)\n",
    "            # last element is the prompt\n",
    "            result, prompt = temp[:-1], temp[-1]\n",
    "    assert len(result) == 800\n",
    "    \n",
    "    non_leaf_coverage_l, non_leaf_precision_l, non_leaf_F1_l = [], [], []\n",
    "    accuracy_l = []\n",
    "    \n",
    "    bins_non_leaf_coverage = dict()\n",
    "    bins_non_leaf_precision = dict()\n",
    "    bins_non_leaf_F1 = dict()\n",
    "    bins_ans_accuracy = dict()\n",
    "    \n",
    "    count_no_nonleaf = 0\n",
    "    for index in range(len(result)):\n",
    "        predicted_item = result[index]\n",
    "        data_entry = data[question2id[predicted_item['question']]]\n",
    "        assert data_entry['question'] == predicted_item['question']\n",
    "\n",
    "        for key_ in predicted_item.keys():\n",
    "            if key_.startswith('ans_'):\n",
    "                predicted_rationale = predicted_item[key_].split(\"Q:\")[0].strip(\" .\")\n",
    "                break\n",
    "        setting_name = key_[4:]\n",
    "        \n",
    "        # get rid of in-token \",\", artifact for long numbers\n",
    "        predicted_rationale_tokens = predicted_rationale.split()\n",
    "        for i in range(len(predicted_rationale_tokens)):\n",
    "            token = predicted_rationale_tokens[i]\n",
    "            if \",\" in token[1:-1]:\n",
    "                token = token[0] + token[1:-1].replace(\",\",\"\") + token[-1]\n",
    "            predicted_rationale_tokens[i] = token\n",
    "        predicted_rationale = \" \".join(predicted_rationale_tokens)\n",
    "        \n",
    "        predicted_steps = predicted_rationale.split(\". \")\n",
    "        predicted_nonleaf_nums = set()\n",
    "        for step in predicted_steps:\n",
    "            if '=' in step:\n",
    "                nums = find_nums(step)\n",
    "                if nums:\n",
    "                    predicted_nonleaf_nums.add(nums[-1])\n",
    "        nums = find_nums(predicted_steps[-1])\n",
    "        if nums:\n",
    "            predicted_nonleaf_nums.add(nums[-1])\n",
    "        \n",
    "        non_leaf_nums = set(data_entry['non_leaf_nums'])\n",
    "        \n",
    "        # getrecall & precision & f1\n",
    "        if not non_leaf_nums:\n",
    "            count_no_nonleaf += 1\n",
    "            non_leaf_coverage, non_leaf_precision = 1, 1\n",
    "        else:\n",
    "            non_leaf_overap = approx_overlap(predicted_nonleaf_nums, non_leaf_nums)\n",
    "            non_leaf_coverage = non_leaf_overap/len(non_leaf_nums)\n",
    "            if not predicted_nonleaf_nums:\n",
    "                non_leaf_precision = 0\n",
    "            else:\n",
    "                non_leaf_precision = non_leaf_overap/len(predicted_nonleaf_nums)\n",
    "            \n",
    "        # f1\n",
    "        if non_leaf_precision * non_leaf_coverage <= 0.01:\n",
    "            non_leaf_F1 = 0\n",
    "        else:\n",
    "            non_leaf_F1 = 2 * non_leaf_precision * non_leaf_coverage / (non_leaf_precision + non_leaf_coverage)\n",
    "\n",
    "        key = len(non_leaf_nums)   # depth of problem\n",
    "        if key not in bins_non_leaf_coverage.keys():\n",
    "            bins_non_leaf_coverage[key] = []\n",
    "            bins_non_leaf_precision[key] = []\n",
    "            bins_non_leaf_F1[key] = []\n",
    "            bins_ans_accuracy[key] = []\n",
    "            \n",
    "        bins_non_leaf_coverage[key].append(non_leaf_coverage)\n",
    "        bins_non_leaf_precision[key].append(non_leaf_precision)\n",
    "        bins_non_leaf_F1[key].append(non_leaf_F1)\n",
    "        \n",
    "        # answer accuracy\n",
    "        nums = extract_nums(predicted_rationale.split(\". \")[-1])\n",
    "        if nums and approx_eq(eval(data_entry['answer']),nums[-1]):\n",
    "            ans_accuracy = 1\n",
    "        else:\n",
    "            ans_accuracy = 0\n",
    "        bins_ans_accuracy[key].append(ans_accuracy)\n",
    "        \n",
    "        non_leaf_coverage_l.append(non_leaf_coverage)\n",
    "        non_leaf_precision_l.append(non_leaf_precision)\n",
    "        non_leaf_F1_l.append(non_leaf_F1)\n",
    "        accuracy_l.append(ans_accuracy)\n",
    "    \n",
    "    print(\"setting:\", setting_name)\n",
    "    print(\"\\taccuracy:\", round(np.mean(accuracy_l), 3))\n",
    "    if setting_name == 'standard':\n",
    "        return\n",
    "    \n",
    "    print(\"\\t\"+str(count_no_nonleaf), \"examples with no leaf or non-leaf\")\n",
    "    print(\"\\taverage non-leaf num recall:\", round(np.mean(non_leaf_coverage_l), 3))\n",
    "    print(\"\\taverage non-leaf num precision:\", round(np.mean(non_leaf_precision_l), 3))\n",
    "    print(\"\\taverage non-leaf num F1:\", round(np.mean(non_leaf_F1_l), 3))\n",
    "    \n",
    "    accuracy_depth = []\n",
    "    coverage_depth = []\n",
    "    precision_depth = []\n",
    "    F1_depth = []\n",
    "    count_depth = dict()\n",
    "    for depth in range(1, 9):\n",
    "        count_depth[depth] = len(bins_ans_accuracy[depth])\n",
    "        accuracy_depth.append(np.mean(bins_ans_accuracy[depth]))\n",
    "        coverage_depth.append(np.mean(bins_non_leaf_coverage[depth]))\n",
    "        precision_depth.append(np.mean(bins_non_leaf_precision[depth]))\n",
    "        F1_depth.append(np.mean(bins_non_leaf_F1[depth]))\n",
    "    \n",
    "    if return_depth:\n",
    "        return accuracy_depth, coverage_depth, precision_depth, F1_depth, count_depth"
   ]
  },
  {
   "cell_type": "code",
   "execution_count": 4,
   "id": "a202ccf0",
   "metadata": {
    "execution": {
     "iopub.execute_input": "2024-12-04T21:43:36.175148Z",
     "iopub.status.busy": "2024-12-04T21:43:36.174890Z",
     "iopub.status.idle": "2024-12-04T21:43:36.244413Z",
     "shell.execute_reply": "2024-12-04T21:43:36.243954Z",
     "shell.execute_reply.started": "2024-12-04T21:43:36.175135Z"
    }
   },
   "outputs": [
    {
     "name": "stdout",
     "output_type": "stream",
     "text": [
      "setting: CoT_original\n",
      "\taccuracy: 0.481\n",
      "\t0 examples with no leaf or non-leaf\n",
      "\taverage non-leaf num recall: 0.445\n",
      "\taverage non-leaf num precision: 0.588\n",
      "\taverage non-leaf num F1: 0.487\n"
     ]
    }
   ],
   "source": [
    "main(\"result_gsm8k/gsm8k_CoT_original.engtext-davinci-002.sample800.seed1357.temp0.0..jsonl\")"
   ]
  },
  {
   "cell_type": "code",
   "execution_count": 5,
   "id": "00e66bbc",
   "metadata": {
    "execution": {
     "iopub.execute_input": "2024-12-04T21:43:36.245046Z",
     "iopub.status.busy": "2024-12-04T21:43:36.244913Z",
     "iopub.status.idle": "2024-12-04T21:43:36.727156Z",
     "shell.execute_reply": "2024-12-04T21:43:36.726674Z",
     "shell.execute_reply.started": "2024-12-04T21:43:36.245034Z"
    }
   },
   "outputs": [
    {
     "name": "stdout",
     "output_type": "stream",
     "text": [
      "setting: standard\n",
      "\taccuracy: 0.154\n",
      "setting: chain_of_thought\n",
      "\taccuracy: 0.485\n",
      "\t0 examples with no leaf or non-leaf\n",
      "\taverage non-leaf num recall: 0.439\n",
      "\taverage non-leaf num precision: 0.58\n",
      "\taverage non-leaf num F1: 0.483\n",
      "setting: invalid_reasoning\n",
      "\taccuracy: 0.395\n",
      "\t0 examples with no leaf or non-leaf\n",
      "\taverage non-leaf num recall: 0.398\n",
      "\taverage non-leaf num precision: 0.538\n",
      "\taverage non-leaf num F1: 0.439\n",
      "setting: no_num_coherency\n",
      "\taccuracy: 0.358\n",
      "\t0 examples with no leaf or non-leaf\n",
      "\taverage non-leaf num recall: 0.353\n",
      "\taverage non-leaf num precision: 0.481\n",
      "\taverage non-leaf num F1: 0.392\n",
      "setting: no_num_relevance\n",
      "\taccuracy: 0.275\n",
      "\t0 examples with no leaf or non-leaf\n",
      "\taverage non-leaf num recall: 0.214\n",
      "\taverage non-leaf num precision: 0.382\n",
      "\taverage non-leaf num F1: 0.262\n",
      "setting: no_lang_coherency\n",
      "\taccuracy: 0.258\n",
      "\t0 examples with no leaf or non-leaf\n",
      "\taverage non-leaf num recall: 0.241\n",
      "\taverage non-leaf num precision: 0.389\n",
      "\taverage non-leaf num F1: 0.283\n",
      "setting: no_lang_relevance\n",
      "\taccuracy: 0.328\n",
      "\t0 examples with no leaf or non-leaf\n",
      "\taverage non-leaf num recall: 0.295\n",
      "\taverage non-leaf num precision: 0.448\n",
      "\taverage non-leaf num F1: 0.34\n",
      "setting: no_coherency\n",
      "\taccuracy: 0.231\n",
      "\t0 examples with no leaf or non-leaf\n",
      "\taverage non-leaf num recall: 0.252\n",
      "\taverage non-leaf num precision: 0.396\n",
      "\taverage non-leaf num F1: 0.294\n",
      "setting: no_relevance\n",
      "\taccuracy: 0.11\n",
      "\t0 examples with no leaf or non-leaf\n",
      "\taverage non-leaf num recall: 0.096\n",
      "\taverage non-leaf num precision: 0.184\n",
      "\taverage non-leaf num F1: 0.119\n"
     ]
    }
   ],
   "source": [
    "main(\"result_gsm8k/gsm8k_standard.engtext-davinci-002.sample800.seed1357.temp0.0..jsonl\")\n",
    "accu_cot, cover_cot, prec_cot, f1_cot, count_depth = main(\n",
    "    \"result_gsm8k/gsm8k_chain_of_thought.engtext-davinci-002.sample800.seed1357.temp0.0..jsonl\", return_depth=True)\n",
    "accu_ir, cover_ir, prec_ir, f1_ir, count_depth = main(\n",
    "    \"result_gsm8k/gsm8k_invalid_reasoning.engtext-davinci-002.sample800.seed1357.temp0.0..jsonl\", return_depth=True)\n",
    "main(\"result_gsm8k/gsm8k_no_num_coherence.engtext-davinci-002.sample800.seed1357.temp0.0..jsonl\")\n",
    "main(\"result_gsm8k/gsm8k_no_num_relevance.engtext-davinci-002.sample800.seed1357.temp0.0..jsonl\")\n",
    "main(\"result_gsm8k/gsm8k_no_lang_coherence.engtext-davinci-002.sample800.seed1357.temp0.0..jsonl\")\n",
    "main(\"result_gsm8k/gsm8k_no_lang_relevance.engtext-davinci-002.sample800.seed1357.temp0.0..jsonl\")\n",
    "main(\"result_gsm8k/gsm8k_no_coherence.engtext-davinci-002.sample800.seed1357.temp0.0..jsonl\")\n",
    "main(\"result_gsm8k/gsm8k_no_relevance.engtext-davinci-002.sample800.seed1357.temp0.0..jsonl\")"
   ]
  },
  {
   "cell_type": "code",
   "execution_count": 6,
   "id": "28efbc21",
   "metadata": {
    "execution": {
     "iopub.execute_input": "2024-12-04T21:43:36.728080Z",
     "iopub.status.busy": "2024-12-04T21:43:36.727815Z",
     "iopub.status.idle": "2024-12-04T21:43:37.199084Z",
     "shell.execute_reply": "2024-12-04T21:43:37.198592Z",
     "shell.execute_reply.started": "2024-12-04T21:43:36.728066Z"
    }
   },
   "outputs": [
    {
     "name": "stdout",
     "output_type": "stream",
     "text": [
      "setting: standard\n",
      "\taccuracy: 0.152\n",
      "setting: chain_of_thought\n",
      "\taccuracy: 0.545\n",
      "\t0 examples with no leaf or non-leaf\n",
      "\taverage non-leaf num recall: 0.484\n",
      "\taverage non-leaf num precision: 0.633\n",
      "\taverage non-leaf num F1: 0.531\n",
      "setting: invalid_reasoning\n",
      "\taccuracy: 0.515\n",
      "\t0 examples with no leaf or non-leaf\n",
      "\taverage non-leaf num recall: 0.502\n",
      "\taverage non-leaf num precision: 0.607\n",
      "\taverage non-leaf num F1: 0.535\n",
      "setting: no_num_coherence\n",
      "\taccuracy: 0.504\n",
      "\t0 examples with no leaf or non-leaf\n",
      "\taverage non-leaf num recall: 0.465\n",
      "\taverage non-leaf num precision: 0.622\n",
      "\taverage non-leaf num F1: 0.515\n",
      "setting: no_num_relevance\n",
      "\taccuracy: 0.472\n",
      "\t0 examples with no leaf or non-leaf\n",
      "\taverage non-leaf num recall: 0.325\n",
      "\taverage non-leaf num precision: 0.529\n",
      "\taverage non-leaf num F1: 0.383\n",
      "setting: no_lang_coherence\n",
      "\taccuracy: 0.419\n",
      "\t0 examples with no leaf or non-leaf\n",
      "\taverage non-leaf num recall: 0.378\n",
      "\taverage non-leaf num precision: 0.555\n",
      "\taverage non-leaf num F1: 0.433\n",
      "setting: no_lang_relevance\n",
      "\taccuracy: 0.518\n",
      "\t0 examples with no leaf or non-leaf\n",
      "\taverage non-leaf num recall: 0.446\n",
      "\taverage non-leaf num precision: 0.612\n",
      "\taverage non-leaf num F1: 0.499\n",
      "setting: no_coherence\n",
      "\taccuracy: 0.31\n",
      "\t0 examples with no leaf or non-leaf\n",
      "\taverage non-leaf num recall: 0.345\n",
      "\taverage non-leaf num precision: 0.508\n",
      "\taverage non-leaf num F1: 0.394\n",
      "setting: no_relevance\n",
      "\taccuracy: 0.162\n",
      "\t0 examples with no leaf or non-leaf\n",
      "\taverage non-leaf num recall: 0.155\n",
      "\taverage non-leaf num precision: 0.23\n",
      "\taverage non-leaf num F1: 0.178\n"
     ]
    }
   ],
   "source": [
    "main(\"result_gsm8k/gsm8k_standard.engtext-davinci-003.sample800.seed1357.temp0.0..jsonl\")\n",
    "main(\"result_gsm8k/gsm8k_chain_of_thought.engtext-davinci-003.sample800.seed1357.temp0.0..jsonl\")\n",
    "main(\"result_gsm8k/gsm8k_invalid_reasoning.engtext-davinci-003.sample800.seed1357.temp0.0..jsonl\")\n",
    "main(\"result_gsm8k/gsm8k_no_num_coherence.engtext-davinci-003.sample800.seed1357.temp0.0..jsonl\")\n",
    "main(\"result_gsm8k/gsm8k_no_num_relevance.engtext-davinci-003.sample800.seed1357.temp0.0..jsonl\")\n",
    "main(\"result_gsm8k/gsm8k_no_lang_coherence.engtext-davinci-003.sample800.seed1357.temp0.0..jsonl\")\n",
    "main(\"result_gsm8k/gsm8k_no_lang_relevance.engtext-davinci-003.sample800.seed1357.temp0.0..jsonl\")\n",
    "main(\"result_gsm8k/gsm8k_no_coherence.engtext-davinci-003.sample800.seed1357.temp0.0..jsonl\")\n",
    "main(\"result_gsm8k/gsm8k_no_relevance.engtext-davinci-003.sample800.seed1357.temp0.0..jsonl\")"
   ]
  },
  {
   "cell_type": "code",
   "execution_count": 7,
   "id": "52b68189",
   "metadata": {
    "execution": {
     "iopub.execute_input": "2024-12-04T21:43:37.199985Z",
     "iopub.status.busy": "2024-12-04T21:43:37.199705Z",
     "iopub.status.idle": "2024-12-04T21:43:37.319895Z",
     "shell.execute_reply": "2024-12-04T21:43:37.319384Z",
     "shell.execute_reply.started": "2024-12-04T21:43:37.199967Z"
    }
   },
   "outputs": [
    {
     "data": {
      "image/png": "[encoded data removed]",
      "text/plain": [
       "<Figure size 640x480 with 1 Axes>"
      ]
     },
     "metadata": {},
     "output_type": "display_data"
    }
   ],
   "source": [
    "depth_range = list(range(1,9))\n",
    "N = len(depth_range)\n",
    "ind = np.arange(N) \n",
    "width = 0.25\n",
    "  \n",
    "xvals = f1_cot\n",
    "bar1 = plt.bar(ind, xvals, width, color = '#8bce97')\n",
    "  \n",
    "yvals = f1_ir\n",
    "bar2 = plt.bar(ind+width, yvals, width, color='#f3ce6c')\n",
    "  \n",
    "plt.xlabel(\"Depth\")\n",
    "plt.ylabel('Inter. F1')\n",
    "plt.title(\"Inter. F1 v.s. Reasoning Depth\")\n",
    "  \n",
    "plt.xticks(ind+width, [\"{} \\n (#{})\".format(i, count_depth[i]) for i in depth_range])\n",
    "plt.legend( (bar1, bar2), ('CoT', 'Invalid Reasoning') )\n",
    "# plt.savefig(\"depth_split_2.png\", bbox_inches='tight')\n",
    "plt.show()"
   ]
  },
  {
   "cell_type": "markdown",
   "id": "f4055779-1e8a-4822-b99e-d512dd33f8c0",
   "metadata": {},
   "source": [
    "```bash\n",
    "python main_gsm8k.py --prompt_dir prompts_arithmetic/chain_of_thought.txt --eng gpt-3.5-turbo-instruct --num_test 800 --seed 1357 --temp 0.0 --test_ind indices_800.json\n",
    "python main_gsm8k.py --prompt_dir prompts_arithmetic/invalid_reasoning.txt --eng gpt-3.5-turbo-instruct --num_test 800 --seed 1357 --temp 0.0 --test_ind indices_800.json\n",
    "```"
   ]
  },
  {
   "cell_type": "code",
   "execution_count": 8,
   "id": "e6ee6185-5746-4155-bf03-d836fcda4d54",
   "metadata": {
    "execution": {
     "iopub.execute_input": "2024-12-04T21:43:37.320775Z",
     "iopub.status.busy": "2024-12-04T21:43:37.320503Z",
     "iopub.status.idle": "2024-12-04T21:43:37.448947Z",
     "shell.execute_reply": "2024-12-04T21:43:37.448476Z",
     "shell.execute_reply.started": "2024-12-04T21:43:37.320761Z"
    }
   },
   "outputs": [
    {
     "name": "stdout",
     "output_type": "stream",
     "text": [
      "setting: chain_of_thought\n",
      "\taccuracy: 0.758\n",
      "\t0 examples with no leaf or non-leaf\n",
      "\taverage non-leaf num recall: 0.665\n",
      "\taverage non-leaf num precision: 0.768\n",
      "\taverage non-leaf num F1: 0.697\n",
      "setting: invalid_reasoning\n",
      "\taccuracy: 0.69\n",
      "\t0 examples with no leaf or non-leaf\n",
      "\taverage non-leaf num recall: 0.647\n",
      "\taverage non-leaf num precision: 0.735\n",
      "\taverage non-leaf num F1: 0.674\n"
     ]
    }
   ],
   "source": [
    "accu_cot, cover_cot, prec_cot, f1_cot, count_depth = main(\n",
    "    \"result_gsm8k/gsm8k_chain_of_thought.enggpt-3.5-turbo-instruct.sample800.seed1357.temp0.0..jsonl\", return_depth=True)\n",
    "accu_ir, cover_ir, prec_ir, f1_ir, count_depth = main(\n",
    "    \"result_gsm8k/gsm8k_invalid_reasoning.enggpt-3.5-turbo-instruct.sample800.seed1357.temp0.0..jsonl\", return_depth=True)"
   ]
  },
  {
   "cell_type": "code",
   "execution_count": 9,
   "id": "bc0c954e-d30a-4303-9317-c14e082a88bd",
   "metadata": {
    "execution": {
     "iopub.execute_input": "2024-12-04T21:43:37.450001Z",
     "iopub.status.busy": "2024-12-04T21:43:37.449620Z",
     "iopub.status.idle": "2024-12-04T21:43:37.545937Z",
     "shell.execute_reply": "2024-12-04T21:43:37.545447Z",
     "shell.execute_reply.started": "2024-12-04T21:43:37.449984Z"
    }
   },
   "outputs": [
    {
     "data": {
      "image/png": "[encoded data removed]",
      "text/plain": [
       "<Figure size 640x480 with 1 Axes>"
      ]
     },
     "metadata": {},
     "output_type": "display_data"
    }
   ],
   "source": [
    "depth_range = list(range(1,9))\n",
    "N = len(depth_range)\n",
    "ind = np.arange(N) \n",
    "width = 0.25\n",
    "  \n",
    "xvals = f1_cot\n",
    "bar1 = plt.bar(ind, xvals, width, color = '#8bce97')\n",
    "  \n",
    "yvals = f1_ir\n",
    "bar2 = plt.bar(ind+width, yvals, width, color='#f3ce6c')\n",
    "  \n",
    "plt.xlabel(\"Depth\")\n",
    "plt.ylabel('Inter. F1')\n",
    "plt.title(\"Inter. F1 v.s. Reasoning Depth\")\n",
    "  \n",
    "plt.xticks(ind+width, [\"{} \\n (#{})\".format(i, count_depth[i]) for i in depth_range])\n",
    "plt.legend( (bar1, bar2), ('CoT', 'Invalid Reasoning') )\n",
    "# plt.savefig(\"depth_split_2.png\", bbox_inches='tight')\n",
    "plt.show()"
   ]
  },
  {
   "cell_type": "code",
   "execution_count": 10,
   "id": "6e4228cc-c67f-4a0d-a354-ab653cdb9582",
   "metadata": {
    "execution": {
     "iopub.execute_input": "2024-12-04T21:43:37.548277Z",
     "iopub.status.busy": "2024-12-04T21:43:37.548026Z",
     "iopub.status.idle": "2024-12-04T21:43:38.052429Z",
     "shell.execute_reply": "2024-12-04T21:43:38.051943Z",
     "shell.execute_reply.started": "2024-12-04T21:43:37.548263Z"
    }
   },
   "outputs": [
    {
     "name": "stdout",
     "output_type": "stream",
     "text": [
      "setting: standard\n",
      "\taccuracy: 0.278\n",
      "setting: chain_of_thought\n",
      "\taccuracy: 0.758\n",
      "\t0 examples with no leaf or non-leaf\n",
      "\taverage non-leaf num recall: 0.665\n",
      "\taverage non-leaf num precision: 0.768\n",
      "\taverage non-leaf num F1: 0.697\n",
      "setting: invalid_reasoning\n",
      "\taccuracy: 0.69\n",
      "\t0 examples with no leaf or non-leaf\n",
      "\taverage non-leaf num recall: 0.647\n",
      "\taverage non-leaf num precision: 0.735\n",
      "\taverage non-leaf num F1: 0.674\n",
      "setting: no_num_coherence\n",
      "\taccuracy: 0.704\n",
      "\t0 examples with no leaf or non-leaf\n",
      "\taverage non-leaf num recall: 0.633\n",
      "\taverage non-leaf num precision: 0.732\n",
      "\taverage non-leaf num F1: 0.663\n",
      "setting: no_num_relevance\n",
      "\taccuracy: 0.658\n",
      "\t0 examples with no leaf or non-leaf\n",
      "\taverage non-leaf num recall: 0.411\n",
      "\taverage non-leaf num precision: 0.675\n",
      "\taverage non-leaf num F1: 0.487\n",
      "setting: no_lang_coherence\n",
      "\taccuracy: 0.541\n",
      "\t0 examples with no leaf or non-leaf\n",
      "\taverage non-leaf num recall: 0.497\n",
      "\taverage non-leaf num precision: 0.634\n",
      "\taverage non-leaf num F1: 0.538\n",
      "setting: no_lang_relevance\n",
      "\taccuracy: 0.585\n",
      "\t0 examples with no leaf or non-leaf\n",
      "\taverage non-leaf num recall: 0.515\n",
      "\taverage non-leaf num precision: 0.651\n",
      "\taverage non-leaf num F1: 0.555\n",
      "setting: no_coherence\n",
      "\taccuracy: 0.621\n",
      "\t0 examples with no leaf or non-leaf\n",
      "\taverage non-leaf num recall: 0.575\n",
      "\taverage non-leaf num precision: 0.692\n",
      "\taverage non-leaf num F1: 0.612\n",
      "setting: no_relevance\n",
      "\taccuracy: 0.224\n",
      "\t0 examples with no leaf or non-leaf\n",
      "\taverage non-leaf num recall: 0.198\n",
      "\taverage non-leaf num precision: 0.27\n",
      "\taverage non-leaf num F1: 0.216\n"
     ]
    }
   ],
   "source": [
    "main(\"result_gsm8k/gsm8k_standard.enggpt-3.5-turbo-instruct.sample800.seed1357.temp0.0..jsonl\")\n",
    "main(\"result_gsm8k/gsm8k_chain_of_thought.enggpt-3.5-turbo-instruct.sample800.seed1357.temp0.0..jsonl\")\n",
    "main(\"result_gsm8k/gsm8k_invalid_reasoning.enggpt-3.5-turbo-instruct.sample800.seed1357.temp0.0..jsonl\")\n",
    "main(\"result_gsm8k/gsm8k_no_num_coherence.enggpt-3.5-turbo-instruct.sample800.seed1357.temp0.0..jsonl\")\n",
    "main(\"result_gsm8k/gsm8k_no_num_relevance.enggpt-3.5-turbo-instruct.sample800.seed1357.temp0.0..jsonl\")\n",
    "main(\"result_gsm8k/gsm8k_no_lang_coherence.enggpt-3.5-turbo-instruct.sample800.seed1357.temp0.0..jsonl\")\n",
    "main(\"result_gsm8k/gsm8k_no_lang_relevance.enggpt-3.5-turbo-instruct.sample800.seed1357.temp0.0..jsonl\")\n",
    "main(\"result_gsm8k/gsm8k_no_coherence.enggpt-3.5-turbo-instruct.sample800.seed1357.temp0.0..jsonl\")\n",
    "main(\"result_gsm8k/gsm8k_no_relevance.enggpt-3.5-turbo-instruct.sample800.seed1357.temp0.0..jsonl\")"
   ]
  },
  {
   "cell_type": "code",
   "execution_count": 11,
   "id": "45d6529a-8070-42b9-a0fd-1ad6d5da14f9",
   "metadata": {
    "execution": {
     "iopub.execute_input": "2024-12-04T21:43:38.053463Z",
     "iopub.status.busy": "2024-12-04T21:43:38.053122Z",
     "iopub.status.idle": "2024-12-04T21:43:38.087894Z",
     "shell.execute_reply": "2024-12-04T21:43:38.087427Z",
     "shell.execute_reply.started": "2024-12-04T21:43:38.053448Z"
    }
   },
   "outputs": [
    {
     "name": "stdout",
     "output_type": "stream",
     "text": [
      "setting: no_bridging_objects\n",
      "\taccuracy: 0.011\n",
      "\t0 examples with no leaf or non-leaf\n",
      "\taverage non-leaf num recall: 0.008\n",
      "\taverage non-leaf num precision: 0.013\n",
      "\taverage non-leaf num F1: 0.009\n"
     ]
    }
   ],
   "source": [
    "main(\"result_gsm8k/gsm8k_no_bridging_objects.enggpt-3.5-turbo-instruct.sample800.seed1357.temp0.0..jsonl\")"
   ]
  },
  {
   "cell_type": "code",
   "execution_count": 12,
   "id": "212fc35c-d16a-468c-b13a-f7f2a32a70fb",
   "metadata": {
    "execution": {
     "iopub.execute_input": "2024-12-04T21:43:38.088649Z",
     "iopub.status.busy": "2024-12-04T21:43:38.088484Z",
     "iopub.status.idle": "2024-12-04T21:43:38.137686Z",
     "shell.execute_reply": "2024-12-04T21:43:38.137160Z",
     "shell.execute_reply.started": "2024-12-04T21:43:38.088636Z"
    }
   },
   "outputs": [
    {
     "name": "stdout",
     "output_type": "stream",
     "text": [
      "setting: no_bridging_objects-ans\n",
      "\taccuracy: 0.29\n",
      "\t0 examples with no leaf or non-leaf\n",
      "\taverage non-leaf num recall: 0.159\n",
      "\taverage non-leaf num precision: 0.394\n",
      "\taverage non-leaf num F1: 0.22\n"
     ]
    }
   ],
   "source": [
    "main(\"result_gsm8k/gsm8k_no_bridging_objects-ans.enggpt-3.5-turbo-instruct.sample800.seed1357.temp0.0..jsonl\")"
   ]
  },
  {
   "cell_type": "code",
   "execution_count": 13,
   "id": "5fdbcb9f-66f3-4f46-8c1d-6bd45262d0c5",
   "metadata": {
    "execution": {
     "iopub.execute_input": "2024-12-04T21:43:38.138395Z",
     "iopub.status.busy": "2024-12-04T21:43:38.138247Z",
     "iopub.status.idle": "2024-12-04T21:43:38.191162Z",
     "shell.execute_reply": "2024-12-04T21:43:38.190578Z",
     "shell.execute_reply.started": "2024-12-04T21:43:38.138382Z"
    }
   },
   "outputs": [
    {
     "name": "stdout",
     "output_type": "stream",
     "text": [
      "setting: no_language_templates\n",
      "\taccuracy: 0.524\n",
      "\t0 examples with no leaf or non-leaf\n",
      "\taverage non-leaf num recall: 0.518\n",
      "\taverage non-leaf num precision: 0.642\n",
      "\taverage non-leaf num F1: 0.555\n"
     ]
    }
   ],
   "source": [
    "main(\"result_gsm8k/gsm8k_no_language_templates.enggpt-3.5-turbo-instruct.sample800.seed1357.temp0.0..jsonl\")"
   ]
  },
  {
   "cell_type": "code",
   "execution_count": 14,
   "id": "87518fc2-4b0c-4836-bb88-be9fb7fda28b",
   "metadata": {
    "execution": {
     "iopub.execute_input": "2024-12-04T21:43:38.192259Z",
     "iopub.status.busy": "2024-12-04T21:43:38.191989Z",
     "iopub.status.idle": "2024-12-04T21:43:38.235580Z",
     "shell.execute_reply": "2024-12-04T21:43:38.235092Z",
     "shell.execute_reply.started": "2024-12-04T21:43:38.192245Z"
    }
   },
   "outputs": [
    {
     "name": "stdout",
     "output_type": "stream",
     "text": [
      "setting: no_language_templates-bo\n",
      "\taccuracy: 0.304\n",
      "\t0 examples with no leaf or non-leaf\n",
      "\taverage non-leaf num recall: 0.161\n",
      "\taverage non-leaf num precision: 0.412\n",
      "\taverage non-leaf num F1: 0.226\n"
     ]
    }
   ],
   "source": [
    "main(\"result_gsm8k/gsm8k_no_language_templates-bo.enggpt-3.5-turbo-instruct.sample800.seed1357.temp0.0..jsonl\")"
   ]
  },
  {
   "cell_type": "code",
   "execution_count": 15,
   "id": "4fef4e3a-31bd-4967-b9a4-30b0fd5fbf07",
   "metadata": {
    "execution": {
     "iopub.execute_input": "2024-12-04T21:43:38.236456Z",
     "iopub.status.busy": "2024-12-04T21:43:38.236304Z",
     "iopub.status.idle": "2024-12-04T21:43:38.278882Z",
     "shell.execute_reply": "2024-12-04T21:43:38.278429Z",
     "shell.execute_reply.started": "2024-12-04T21:43:38.236443Z"
    }
   },
   "outputs": [
    {
     "name": "stdout",
     "output_type": "stream",
     "text": [
      "setting: no_language_templates-num\n",
      "\taccuracy: 0.212\n",
      "\t0 examples with no leaf or non-leaf\n",
      "\taverage non-leaf num recall: 0.135\n",
      "\taverage non-leaf num precision: 0.36\n",
      "\taverage non-leaf num F1: 0.191\n"
     ]
    }
   ],
   "source": [
    "main(\"result_gsm8k/gsm8k_no_language_templates-num.enggpt-3.5-turbo-instruct.sample800.seed1357.temp0.0..jsonl\")"
   ]
  },
  {
   "cell_type": "code",
   "execution_count": 16,
   "id": "e4407a14-1d17-4a83-b203-0844beff61e5",
   "metadata": {
    "execution": {
     "iopub.execute_input": "2024-12-04T21:43:38.279753Z",
     "iopub.status.busy": "2024-12-04T21:43:38.279472Z",
     "iopub.status.idle": "2024-12-04T21:43:38.333641Z",
     "shell.execute_reply": "2024-12-04T21:43:38.333150Z",
     "shell.execute_reply.started": "2024-12-04T21:43:38.279741Z"
    }
   },
   "outputs": [
    {
     "name": "stdout",
     "output_type": "stream",
     "text": [
      "setting: no_language_templates-eq\n",
      "\taccuracy: 0.659\n",
      "\t0 examples with no leaf or non-leaf\n",
      "\taverage non-leaf num recall: 0.558\n",
      "\taverage non-leaf num precision: 0.724\n",
      "\taverage non-leaf num F1: 0.606\n"
     ]
    }
   ],
   "source": [
    "main(\"result_gsm8k/gsm8k_no_language_templates-eq.enggpt-3.5-turbo-instruct.sample800.seed1357.temp0.0..jsonl\")"
   ]
  },
  {
   "cell_type": "code",
   "execution_count": 17,
   "id": "9c0d8fc1-0e0d-4a63-8568-831ab88ef585",
   "metadata": {
    "execution": {
     "iopub.execute_input": "2024-12-04T21:43:38.334504Z",
     "iopub.status.busy": "2024-12-04T21:43:38.334247Z",
     "iopub.status.idle": "2024-12-04T21:43:38.387146Z",
     "shell.execute_reply": "2024-12-04T21:43:38.386681Z",
     "shell.execute_reply.started": "2024-12-04T21:43:38.334490Z"
    }
   },
   "outputs": [
    {
     "name": "stdout",
     "output_type": "stream",
     "text": [
      "setting: invalid_reasoning-eq\n",
      "\taccuracy: 0.542\n",
      "\t0 examples with no leaf or non-leaf\n",
      "\taverage non-leaf num recall: 0.531\n",
      "\taverage non-leaf num precision: 0.647\n",
      "\taverage non-leaf num F1: 0.566\n"
     ]
    }
   ],
   "source": [
    "main(\"result_gsm8k/gsm8k_invalid_reasoning-eq.enggpt-3.5-turbo-instruct.sample800.seed1357.temp0.0..jsonl\")"
   ]
  },
  {
   "cell_type": "code",
   "execution_count": 18,
   "id": "265a45c4-8044-408c-b857-bf89a0e1e8e0",
   "metadata": {
    "execution": {
     "iopub.execute_input": "2024-12-04T21:43:38.387813Z",
     "iopub.status.busy": "2024-12-04T21:43:38.387646Z",
     "iopub.status.idle": "2024-12-04T21:43:38.440095Z",
     "shell.execute_reply": "2024-12-04T21:43:38.439609Z",
     "shell.execute_reply.started": "2024-12-04T21:43:38.387801Z"
    }
   },
   "outputs": [
    {
     "name": "stdout",
     "output_type": "stream",
     "text": [
      "setting: no_num_relevance-eq\n",
      "\taccuracy: 0.541\n",
      "\t0 examples with no leaf or non-leaf\n",
      "\taverage non-leaf num recall: 0.496\n",
      "\taverage non-leaf num precision: 0.64\n",
      "\taverage non-leaf num F1: 0.54\n"
     ]
    }
   ],
   "source": [
    "main(\"result_gsm8k/gsm8k_no_num_relevance-eq.enggpt-3.5-turbo-instruct.sample800.seed1357.temp0.0..jsonl\")"
   ]
  },
  {
   "cell_type": "markdown",
   "id": "84536804-2314-4694-8536-51f171ecd191",
   "metadata": {},
   "source": [
    "# Zero shot"
   ]
  },
  {
   "cell_type": "code",
   "execution_count": 19,
   "id": "02de5982-e709-4d1f-8832-1cdcbe87529d",
   "metadata": {
    "execution": {
     "iopub.execute_input": "2024-12-04T21:43:38.440766Z",
     "iopub.status.busy": "2024-12-04T21:43:38.440628Z",
     "iopub.status.idle": "2024-12-04T21:43:38.501452Z",
     "shell.execute_reply": "2024-12-04T21:43:38.500985Z",
     "shell.execute_reply.started": "2024-12-04T21:43:38.440753Z"
    }
   },
   "outputs": [
    {
     "name": "stdout",
     "output_type": "stream",
     "text": [
      "setting: suffix\n",
      "\taccuracy: 0.386\n",
      "\t0 examples with no leaf or non-leaf\n",
      "\taverage non-leaf num recall: 0.234\n",
      "\taverage non-leaf num precision: 0.472\n",
      "\taverage non-leaf num F1: 0.296\n"
     ]
    }
   ],
   "source": [
    "main(\"result_gsm8k/gsm8k_suffix.enggpt-3.5-turbo-instruct.sample800.seed1357.temp0.0..jsonl\")"
   ]
  },
  {
   "cell_type": "code",
   "execution_count": 20,
   "id": "57da4985-4e2f-43e9-bf75-43754bb10bbb",
   "metadata": {
    "execution": {
     "iopub.execute_input": "2024-12-04T21:43:38.502104Z",
     "iopub.status.busy": "2024-12-04T21:43:38.501961Z",
     "iopub.status.idle": "2024-12-04T21:43:38.587212Z",
     "shell.execute_reply": "2024-12-04T21:43:38.586733Z",
     "shell.execute_reply.started": "2024-12-04T21:43:38.502092Z"
    }
   },
   "outputs": [
    {
     "name": "stdout",
     "output_type": "stream",
     "text": [
      "setting: suffix\n",
      "\taccuracy: 0.605\n",
      "\t0 examples with no leaf or non-leaf\n",
      "\taverage non-leaf num recall: 0.578\n",
      "\taverage non-leaf num precision: 0.67\n",
      "\taverage non-leaf num F1: 0.596\n"
     ]
    }
   ],
   "source": [
    "main(\"result_gsm8k/gsm8k_suffix.enggpt-3.5-turbo-instruct.sample800.seed1357.temp0.0.Let's_think_step_by_step..jsonl\")"
   ]
  },
  {
   "cell_type": "code",
   "execution_count": 21,
   "id": "d905a642-e288-4443-b7b5-700ab33d9026",
   "metadata": {
    "execution": {
     "iopub.execute_input": "2024-12-04T21:43:38.588048Z",
     "iopub.status.busy": "2024-12-04T21:43:38.587803Z",
     "iopub.status.idle": "2024-12-04T21:43:38.695596Z",
     "shell.execute_reply": "2024-12-04T21:43:38.695048Z",
     "shell.execute_reply.started": "2024-12-04T21:43:38.588035Z"
    }
   },
   "outputs": [
    {
     "name": "stdout",
     "output_type": "stream",
     "text": [
      "setting: suffix\n",
      "\taccuracy: 0.62\n",
      "\t0 examples with no leaf or non-leaf\n",
      "\taverage non-leaf num recall: 0.324\n",
      "\taverage non-leaf num precision: 0.645\n",
      "\taverage non-leaf num F1: 0.402\n"
     ]
    }
   ],
   "source": [
    "main(\"result_gsm8k/gsm8k_suffix.enggpt-3.5-turbo-instruct.sample800.seed1357.temp0.0.Let's_write_down_the_arithmetic_expressions..jsonl\")"
   ]
  },
  {
   "cell_type": "code",
   "execution_count": 22,
   "id": "c5d5c833-13c2-435d-be04-c5d3af05ad12",
   "metadata": {
    "execution": {
     "iopub.execute_input": "2024-12-04T21:43:38.696448Z",
     "iopub.status.busy": "2024-12-04T21:43:38.696190Z",
     "iopub.status.idle": "2024-12-04T21:43:38.791592Z",
     "shell.execute_reply": "2024-12-04T21:43:38.791077Z",
     "shell.execute_reply.started": "2024-12-04T21:43:38.696433Z"
    }
   },
   "outputs": [
    {
     "name": "stdout",
     "output_type": "stream",
     "text": [
      "setting: suffix\n",
      "\taccuracy: 0.624\n",
      "\t0 examples with no leaf or non-leaf\n",
      "\taverage non-leaf num recall: 0.473\n",
      "\taverage non-leaf num precision: 0.527\n",
      "\taverage non-leaf num F1: 0.475\n"
     ]
    }
   ],
   "source": [
    "main(\"result_gsm8k/gsm8k_suffix.enggpt-3.5-turbo-instruct.sample800.seed1357.temp0.0.Let's_write_down_the_arithmetic_expressions_step_by_step..jsonl\")"
   ]
  },
  {
   "cell_type": "code",
   "execution_count": null,
   "id": "ae37b8e1-f270-47fc-af19-44a1da8cc74a",
   "metadata": {},
   "outputs": [],
   "source": []
  }
 ],
 "metadata": {
  "kernelspec": {
   "display_name": "Python 3 (ipykernel)",
   "language": "python",
   "name": "python3"
  },
  "language_info": {
   "codemirror_mode": {
    "name": "ipython",
    "version": 3
   },
   "file_extension": ".py",
   "mimetype": "text/x-python",
   "name": "python",
   "nbconvert_exporter": "python",
   "pygments_lexer": "ipython3",
   "version": "3.12.3"
  }
 },
 "nbformat": 4,
 "nbformat_minor": 5
}
